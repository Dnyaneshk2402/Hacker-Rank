{
 "cells": [
  {
   "cell_type": "code",
   "execution_count": 1,
   "id": "a2228f31",
   "metadata": {},
   "outputs": [
    {
     "name": "stdout",
     "output_type": "stream",
     "text": [
      "1+2j\n",
      "2.23606797749979\n",
      "1.1071487177940904\n"
     ]
    }
   ],
   "source": [
    "# Enter your code here. Read input from STDIN. Print output to STDOUT\n",
    "import cmath\n",
    "\n",
    "n = input()\n",
    "print(abs(complex(n)))\n",
    "print(cmath.phase(complex(n)))"
   ]
  },
  {
   "cell_type": "code",
   "execution_count": 2,
   "id": "45047baf",
   "metadata": {},
   "outputs": [
    {
     "name": "stdout",
     "output_type": "stream",
     "text": [
      "10\n",
      "10\n",
      "45°\n"
     ]
    }
   ],
   "source": [
    "# Enter your code here. Read input from STDIN. Print output to STDOUT\n",
    "import math\n",
    "\n",
    "ab=int(input())\n",
    "bc=int(input())\n",
    "\n",
    "ca=math.hypot(ab,bc)\n",
    "mc=ca/2\n",
    "bca=math.asin(1*ab/ca)\n",
    "bm=math.sqrt((bc**2+mc**2)-(2*bc*mc*math.cos(bca)))\n",
    "mbc=math.asin(math.sin(bca)*mc/bm)\n",
    "\n",
    "print(int(round(math.degrees(mbc),0)),'\\u00B0',sep='')"
   ]
  },
  {
   "cell_type": "code",
   "execution_count": 3,
   "id": "e60251fa",
   "metadata": {},
   "outputs": [
    {
     "name": "stdout",
     "output_type": "stream",
     "text": [
      "5\n",
      "1\n",
      "121\n",
      "12321\n",
      "1234321\n",
      "123454321\n"
     ]
    }
   ],
   "source": [
    "for i in range(1, int(input())+1):\n",
    "    print(((10**i)//9)**2)"
   ]
  },
  {
   "cell_type": "code",
   "execution_count": 4,
   "id": "982f282c",
   "metadata": {},
   "outputs": [
    {
     "name": "stdout",
     "output_type": "stream",
     "text": [
      "177\n",
      "10\n",
      "17\n",
      "7\n",
      "(17, 7)\n"
     ]
    }
   ],
   "source": [
    "# Enter your code here. Read input from STDIN. Print output to STDOUT\n",
    "\n",
    "A = int(input())\n",
    "B = int(input())\n",
    "\n",
    "print(A//B)\n",
    "print(A%B)\n",
    "print(divmod(A, B))"
   ]
  },
  {
   "cell_type": "code",
   "execution_count": 5,
   "id": "027427ee",
   "metadata": {},
   "outputs": [
    {
     "name": "stdout",
     "output_type": "stream",
     "text": [
      "3\n",
      "4\n",
      "5\n",
      "81\n",
      "1\n"
     ]
    }
   ],
   "source": [
    "# Enter your code here. Read input from STDIN. Print output to STDOUT\n",
    "import math\n",
    "\n",
    "a = int(input())\n",
    "b = int(input())\n",
    "m = int(input())\n",
    "\n",
    "c = math.pow(a, b)\n",
    "d = c%m\n",
    "\n",
    "print(int(c))\n",
    "print(int(d))"
   ]
  },
  {
   "cell_type": "code",
   "execution_count": 6,
   "id": "91687e48",
   "metadata": {},
   "outputs": [
    {
     "name": "stdout",
     "output_type": "stream",
     "text": [
      "9 \n",
      "29\n",
      "7\n",
      "27\n",
      "4710194409608608369201743232\n"
     ]
    }
   ],
   "source": [
    "# Enter your code here. Read input from STDIN. Print output to STDOUT\n",
    "a = int(input())\n",
    "b = int(input())\n",
    "c = int(input())\n",
    "d = int(input())\n",
    "\n",
    "print((a**b)+(c**d))"
   ]
  },
  {
   "cell_type": "code",
   "execution_count": 7,
   "id": "c7fe28c8",
   "metadata": {},
   "outputs": [
    {
     "name": "stdout",
     "output_type": "stream",
     "text": [
      "5\n",
      "1\n",
      "22\n",
      "333\n",
      "4444\n"
     ]
    }
   ],
   "source": [
    "for i in range(1, int(input())):\n",
    "    print((10**(i)//9)*i)"
   ]
  },
  {
   "cell_type": "code",
   "execution_count": null,
   "id": "536f332a",
   "metadata": {},
   "outputs": [],
   "source": []
  }
 ],
 "metadata": {
  "kernelspec": {
   "display_name": "Python 3 (ipykernel)",
   "language": "python",
   "name": "python3"
  },
  "language_info": {
   "codemirror_mode": {
    "name": "ipython",
    "version": 3
   },
   "file_extension": ".py",
   "mimetype": "text/x-python",
   "name": "python",
   "nbconvert_exporter": "python",
   "pygments_lexer": "ipython3",
   "version": "3.9.13"
  }
 },
 "nbformat": 4,
 "nbformat_minor": 5
}
