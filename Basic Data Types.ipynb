{
 "cells": [
  {
   "cell_type": "code",
   "execution_count": 1,
   "id": "b5bb7901",
   "metadata": {},
   "outputs": [
    {
     "name": "stdout",
     "output_type": "stream",
     "text": [
      "2\n",
      "2\n",
      "2\n",
      "2\n",
      "[[0, 0, 0], [0, 0, 1], [0, 1, 0], [0, 1, 2], [0, 2, 1], [0, 2, 2], [1, 0, 0], [1, 0, 2], [1, 1, 1], [1, 1, 2], [1, 2, 0], [1, 2, 1], [1, 2, 2], [2, 0, 1], [2, 0, 2], [2, 1, 0], [2, 1, 1], [2, 1, 2], [2, 2, 0], [2, 2, 1], [2, 2, 2]]\n"
     ]
    }
   ],
   "source": [
    "if __name__ == '__main__':\n",
    "    x = int(input())\n",
    "    y = int(input())\n",
    "    z = int(input())\n",
    "    n = int(input())\n",
    "    output = [];\n",
    "    abc = [];\n",
    "    for X in range(x+1):\n",
    "        for Y in range(y+1):\n",
    "            for Z in range(z+1):\n",
    "                if X+Y+Z != n:\n",
    "                    abc = [X,Y,Z];\n",
    "                    output.append(abc);\n",
    "print(output);    "
   ]
  },
  {
   "cell_type": "code",
   "execution_count": 2,
   "id": "78852f69",
   "metadata": {},
   "outputs": [
    {
     "name": "stdout",
     "output_type": "stream",
     "text": [
      "5\n",
      "2 3 6 6 5\n",
      "5\n"
     ]
    }
   ],
   "source": [
    "if __name__ == '__main__':\n",
    "    n = int(input())\n",
    "    arr = map(int, input().split())\n",
    "    print(sorted(list(set(arr)))[-2])"
   ]
  },
  {
   "cell_type": "code",
   "execution_count": 3,
   "id": "5bbf2a0e",
   "metadata": {},
   "outputs": [
    {
     "name": "stdout",
     "output_type": "stream",
     "text": [
      "5\n",
      "Harry\n",
      "37.21\n",
      "Berry\n",
      "37.21\n",
      "Tine\n",
      "37.2\n",
      "Akriti\n",
      "41\n",
      "Harsh\n",
      "39\n",
      "Berry\n",
      "Harry\n"
     ]
    }
   ],
   "source": [
    "Result =[]\n",
    "scorelist = []\n",
    "\n",
    "if __name__ == '__main__':\n",
    "    for _ in range(int(input())):\n",
    "        name = input()\n",
    "        score = float(input())\n",
    "        Result+=[[name,score]]\n",
    "        scorelist+=[score]\n",
    "    b=sorted(list(set(scorelist)))[1] \n",
    "\n",
    "    for a,c in sorted(Result):\n",
    "        if c==b:\n",
    "            print(a)"
   ]
  },
  {
   "cell_type": "code",
   "execution_count": 4,
   "id": "b20b7f1c",
   "metadata": {},
   "outputs": [
    {
     "name": "stdout",
     "output_type": "stream",
     "text": [
      "3\n",
      "Krishna 67 68 69\n",
      "Arjun 70 98 63\n",
      "Malika 52 56 60\n",
      "Malika\n",
      "56.00\n"
     ]
    }
   ],
   "source": [
    "if __name__ == '__main__':\n",
    "    n = int(input())\n",
    "    student_marks = {}\n",
    "    for _ in range(n):\n",
    "        name, *line = input().split()\n",
    "        scores = list(map(float, line))\n",
    "        student_marks[name] = scores\n",
    "    query_name = input()\n",
    "output = list(student_marks[query_name])    \n",
    "per = sum(output)/len(output);\n",
    "print(\"%.2f\" % per);    "
   ]
  },
  {
   "cell_type": "code",
   "execution_count": 5,
   "id": "948d2777",
   "metadata": {},
   "outputs": [
    {
     "name": "stdout",
     "output_type": "stream",
     "text": [
      "12\n",
      "insert 0 5\n",
      "insert 1 10\n",
      "insert 0 6\n",
      "print\n",
      "[6, 5, 10]\n",
      "remove 6\n",
      "append 9\n",
      "append 1\n",
      "sort\n",
      "print\n",
      "[1, 5, 9, 10]\n",
      "pop\n",
      "reverse\n",
      "print\n",
      "[9, 5, 1]\n"
     ]
    }
   ],
   "source": [
    "if __name__ == '__main__':\n",
    "    N = int(input())\n",
    "    L=[];\n",
    "    for i in range(0,N):\n",
    "        cmd=input().split();\n",
    "        if cmd[0] == \"insert\":\n",
    "            L.insert(int(cmd[1]),int(cmd[2]))\n",
    "        elif cmd[0] == \"append\":\n",
    "            L.append(int(cmd[1]))\n",
    "        elif cmd[0] == \"pop\":\n",
    "            L.pop();\n",
    "        elif cmd[0] == \"print\":\n",
    "            print(L)\n",
    "        elif cmd[0] == \"remove\":\n",
    "            L.remove(int(cmd[1]))\n",
    "        elif cmd[0] == \"sort\":\n",
    "            L.sort();\n",
    "        else:\n",
    "            L.reverse();"
   ]
  },
  {
   "cell_type": "code",
   "execution_count": 7,
   "id": "a1ee3d1e",
   "metadata": {},
   "outputs": [
    {
     "name": "stdout",
     "output_type": "stream",
     "text": [
      "2\n",
      "1 2\n",
      "-3550055125485641917\n"
     ]
    }
   ],
   "source": [
    "if __name__ == '__main__':\n",
    "    n = int(input())\n",
    "    t = tuple(map(int, input().split()))\n",
    "    print(hash(t))"
   ]
  },
  {
   "cell_type": "code",
   "execution_count": 13,
   "id": "0d653495",
   "metadata": {},
   "outputs": [
    {
     "name": "stdout",
     "output_type": "stream",
     "text": [
      "10\n",
      "161 182 161 154 176 170 167 171 170 174\n",
      "169.375\n"
     ]
    }
   ],
   "source": [
    "def average(array):\n",
    "    # your code goes here\n",
    "    array = set(array)\n",
    "    return sum(array) / len(array)\n",
    "\n",
    "if __name__ == '__main__':\n",
    "    n = int(input())\n",
    "    arr = list(map(int, input().split()))\n",
    "    result = average(arr)\n",
    "    print(result)"
   ]
  },
  {
   "cell_type": "code",
   "execution_count": 14,
   "id": "3eac5043",
   "metadata": {},
   "outputs": [
    {
     "name": "stdout",
     "output_type": "stream",
     "text": [
      "3 2\n",
      "1 5 3 \n",
      "3 1\n",
      "5 7\n",
      "1\n"
     ]
    }
   ],
   "source": [
    "# Enter your code here. Read input from STDIN. Print output to STDOUT\n",
    "if __name__ == \"__main__\":\n",
    "    happiness = 0\n",
    "    n, m = map(int, input().strip().split(' '))\n",
    "    arr = list(map(int, input().strip().split(' ')))\n",
    "    \n",
    "    good = set(map(int, input().strip().split(' ')))\n",
    "    bad = set(map(int, input().strip().split(' ')))\n",
    "    \n",
    "    for i in arr:\n",
    "        if i in good:\n",
    "            happiness += 1\n",
    "        elif i in bad:\n",
    "            happiness -= 1\n",
    "    print(happiness)"
   ]
  },
  {
   "cell_type": "code",
   "execution_count": 15,
   "id": "cdbec65c",
   "metadata": {},
   "outputs": [
    {
     "name": "stdout",
     "output_type": "stream",
     "text": [
      "4\n",
      "2 4 5 9 \n",
      "4\n",
      "2 4 11 12 \n",
      "5\n",
      "9\n",
      "11\n",
      "12\n"
     ]
    }
   ],
   "source": [
    "# Enter your code here. Read input from STDIN. Print output to STDOUT\n",
    "if __name__ == \"__main__\":\n",
    "    M = int(input().strip())\n",
    "    set_m = set(map(int, input().strip().split(' ')))\n",
    "    \n",
    "    N = int(input().strip())\n",
    "    set_n = set(map(int, input().strip().split(' ')))\n",
    "    \n",
    "    for j in sorted(set_m ^ set_n):\n",
    "        print(j)"
   ]
  },
  {
   "cell_type": "code",
   "execution_count": 16,
   "id": "2bebac32",
   "metadata": {},
   "outputs": [
    {
     "name": "stdout",
     "output_type": "stream",
     "text": [
      "7\n",
      "UK\n",
      "China\n",
      "USA\n",
      "France\n",
      "New Zealand\n",
      "UK\n",
      "France\n",
      "5\n"
     ]
    }
   ],
   "source": [
    "# Enter your code here. Read input from STDIN. Print output to STDOUT\n",
    "n = int(input())\n",
    "NAMES = set([])\n",
    "for i in range(n):\n",
    "    NAMES.add(input())\n",
    "print(len(NAMES))"
   ]
  },
  {
   "cell_type": "code",
   "execution_count": 17,
   "id": "8b740bb1",
   "metadata": {},
   "outputs": [
    {
     "name": "stdout",
     "output_type": "stream",
     "text": [
      "9\n",
      "1 2 3 4 5 6 7 8 9\n",
      "10\n",
      "pop\n",
      "remove 9\n",
      "discard 9\n",
      "discard 8\n",
      "remove 7\n",
      "pop\n",
      "discard 6\n",
      "remove 5\n",
      "pop\n",
      "discard 5\n",
      "4\n"
     ]
    }
   ],
   "source": [
    "n = int(input())\n",
    "s = set(map(int, input().split())) # Set of n elements\n",
    "\n",
    "for i in range(int(input())): # Iterate in range of the input num\n",
    "    s1 = input().split()\n",
    "    if s1[0] == 'pop':\n",
    "        s.pop()\n",
    "    elif s1[0] == 'remove':\n",
    "        s.remove(int(s1[1]))\n",
    "    elif s1[0] == 'discard':\n",
    "        s.discard(int(s1[1]))\n",
    "\n",
    "print(sum(s))"
   ]
  },
  {
   "cell_type": "code",
   "execution_count": 18,
   "id": "3bf29bc2",
   "metadata": {},
   "outputs": [
    {
     "name": "stdout",
     "output_type": "stream",
     "text": [
      "9\n",
      "1 2 3 4 5 6 7 8 9\n",
      "9\n",
      "10 1 2 3 11 21 55 6 8\n",
      "13\n"
     ]
    }
   ],
   "source": [
    "# Enter your code here. Read input from STDIN. Print output to STDOUT\n",
    "_ = int(input())\n",
    "SET_N = set(map(int, input().split()))\n",
    "\n",
    "_ = int(input())\n",
    "SET_B = set(map(int, input().split()))\n",
    "\n",
    "NEW_SET = SET_N.union(SET_B)\n",
    "print(len(NEW_SET))"
   ]
  },
  {
   "cell_type": "code",
   "execution_count": 19,
   "id": "89be6164",
   "metadata": {},
   "outputs": [
    {
     "name": "stdout",
     "output_type": "stream",
     "text": [
      "9\n",
      "1 2 3 4 5 6 7 8 9\n",
      "9\n",
      "10 1 2 3 11 21 55 6 8\n",
      "5\n"
     ]
    }
   ],
   "source": [
    "# Enter your code here. Read input from STDIN. Print output to STDOUT\n",
    "_ = int(input())\n",
    "SET_N = set(map(int, input().split()))\n",
    "\n",
    "_ = int(input())\n",
    "SET_B = set(map(int, input().split()))\n",
    "\n",
    "print(len(SET_N & SET_B))"
   ]
  },
  {
   "cell_type": "code",
   "execution_count": 21,
   "id": "91c5ab98",
   "metadata": {},
   "outputs": [
    {
     "name": "stdout",
     "output_type": "stream",
     "text": [
      "9\n",
      "1 2 3 4 5 6 7 8 9\n",
      "9\n",
      "10 1 2 3 11 21 55 6 8\n",
      "4\n"
     ]
    }
   ],
   "source": [
    "# Enter your code here. Read input from STDIN. Print output to STDOUT\n",
    "_ = int(input())\n",
    "SET_N = set(map(int, input().split()))\n",
    "\n",
    "_ = int(input())\n",
    "SET_B = set(map(int, input().split()))\n",
    "\n",
    "NEW_SET = SET_N.difference(SET_B)\n",
    "print(len(NEW_SET))"
   ]
  },
  {
   "cell_type": "code",
   "execution_count": 22,
   "id": "4d077971",
   "metadata": {},
   "outputs": [
    {
     "name": "stdout",
     "output_type": "stream",
     "text": [
      "9\n",
      "1 2 3 4 5 6 7 8 9\n",
      "9\n",
      "10 1 2 3 11 21 55 6 8\n",
      "8\n"
     ]
    }
   ],
   "source": [
    "# Enter your code here. Read input from STDIN. Print output to STDOUT\n",
    "_ = int(input())\n",
    "SET_N = set(map(int, input().split()))\n",
    "\n",
    "_ = int(input())\n",
    "SET_B = set(map(int, input().split()))\n",
    "\n",
    "print(len(SET_N.symmetric_difference(SET_B)))\n"
   ]
  },
  {
   "cell_type": "code",
   "execution_count": 24,
   "id": "fd607bc2",
   "metadata": {},
   "outputs": [
    {
     "name": "stdout",
     "output_type": "stream",
     "text": [
      "16\n",
      "1 2 3 4 5 6 7 8 9 10 11 12 13 14 24 52\n",
      "4\n",
      "\n",
      "  @media print {\n",
      "    .ms-editor-squiggles-container {\n",
      "      display:none !important;\n",
      "    }\n",
      "  }\n",
      "  .ms-editor-squiggles-container {\n",
      "    all: initial;\n",
      "  }intersection_update 10\n",
      "2 3 5 6 8 9 1 4 7 11\n",
      "update 2\n",
      "55 66\n",
      "\n",
      "  @media print {\n",
      "    .ms-editor-squiggles-container {\n",
      "      display:none !important;\n",
      "    }\n",
      "  }\n",
      "  .ms-editor-squiggles-container {\n",
      "    all: initial;\n",
      "  }symmetric_difference_update 5\n",
      "22 7 35 62 58\n",
      "\n",
      "  @media print {\n",
      "    .ms-editor-squiggles-container {\n",
      "      display:none !important;\n",
      "    }\n",
      "  }\n",
      "  .ms-editor-squiggles-container {\n",
      "    all: initial;\n",
      "  }difference_update 7\n",
      "11 22 35 55 58 62 66\n",
      "38\n"
     ]
    }
   ],
   "source": [
    "# Enter your code here. Read input from STDIN. Print output to STDOUT\n",
    "A = int(input())\n",
    "SET_A = set(map(int, input().split()))\n",
    "N = int(input())\n",
    "\n",
    "for _ in range(N):\n",
    "    operation = input().split()\n",
    "    new_set = set(map(int, input().split()))\n",
    "    eval('SET_A.{}({})'.format(operation[0], new_set))\n",
    "\n",
    "print(sum(SET_A))"
   ]
  },
  {
   "cell_type": "code",
   "execution_count": 26,
   "id": "1dc54093",
   "metadata": {},
   "outputs": [
    {
     "name": "stdout",
     "output_type": "stream",
     "text": [
      "5\n",
      "1 2 3 6 5 4 4 2 5 3 6 1 6 5 3 2 4 1 2 5 1 4 3 6 8 4 3 1 5 6 2 \n",
      "8\n"
     ]
    }
   ],
   "source": [
    "# Enter your code here. Read input from STDIN. Print output to STDOUT\n",
    "N = input()\n",
    "ROOM_LIST = input().split()\n",
    "ROOM_SET = set(ROOM_LIST)\n",
    "\n",
    "for ele in list(ROOM_SET):\n",
    "    ROOM_LIST.remove(ele)\n",
    "\n",
    "CAPTAIN_ROOM_NUM = ROOM_SET.difference(set(ROOM_LIST)).pop()\n",
    "print(CAPTAIN_ROOM_NUM)"
   ]
  },
  {
   "cell_type": "code",
   "execution_count": 27,
   "id": "5148d4bf",
   "metadata": {},
   "outputs": [
    {
     "name": "stdout",
     "output_type": "stream",
     "text": [
      "3\n",
      "5\n",
      "1 2 3 5 6\n",
      "9\n",
      "9 8 5 6 3 2 1 4 7\n",
      "True\n",
      "1\n",
      "2\n",
      "5\n",
      "3 6 5 4 1\n",
      "False\n",
      "7\n",
      "1 2 3 5 6 8 9\n",
      "3\n",
      "9 8 2\n",
      "False\n"
     ]
    }
   ],
   "source": [
    "# Enter your code here. Read input from STDIN. Print output to STDOUT\n",
    "for i in range(int(input())):\n",
    "    a = int(input())\n",
    "    set_a = set(map(int, input().split()))\n",
    "\n",
    "    b = int(input())\n",
    "    set_b = set(map(int, input().split()))\n",
    "\n",
    "    if len(set_a - set_b) == 0:\n",
    "        print(\"True\")\n",
    "    else:\n",
    "        print(\"False\")"
   ]
  },
  {
   "cell_type": "code",
   "execution_count": 28,
   "id": "db588f2c",
   "metadata": {},
   "outputs": [
    {
     "name": "stdout",
     "output_type": "stream",
     "text": [
      "1 2 3 4 5 6 7 8 9 10 11 12 23 45 84 78\n",
      "2\n",
      "1 2 3 4 5\n",
      "100 11 12 \n",
      "False\n"
     ]
    }
   ],
   "source": [
    "# Enter your code here. Read input from STDIN. Print output to STDOUT\n",
    "A = set(input().split())\n",
    "COUNT = 0\n",
    "VALUE = 0\n",
    "\n",
    "for i in range(int(input())):\n",
    "    if A.issuperset(set(input().split())):\n",
    "        COUNT += 1\n",
    "    else:\n",
    "        VALUE += 1\n",
    "if VALUE != 0:\n",
    "    print('False')\n",
    "else:\n",
    "    print('True')"
   ]
  },
  {
   "cell_type": "code",
   "execution_count": null,
   "id": "654a6df1",
   "metadata": {},
   "outputs": [],
   "source": []
  }
 ],
 "metadata": {
  "kernelspec": {
   "display_name": "Python 3 (ipykernel)",
   "language": "python",
   "name": "python3"
  },
  "language_info": {
   "codemirror_mode": {
    "name": "ipython",
    "version": 3
   },
   "file_extension": ".py",
   "mimetype": "text/x-python",
   "name": "python",
   "nbconvert_exporter": "python",
   "pygments_lexer": "ipython3",
   "version": "3.9.13"
  }
 },
 "nbformat": 4,
 "nbformat_minor": 5
}
